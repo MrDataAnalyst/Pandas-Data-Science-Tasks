{
  "nbformat": 4,
  "nbformat_minor": 0,
  "metadata": {
    "colab": {
      "name": "Data joining and manipulation.ipynb",
      "provenance": [],
      "authorship_tag": "ABX9TyPfsIS4Hr2b0DARKbfrvsbi",
      "include_colab_link": true
    },
    "kernelspec": {
      "name": "python3",
      "display_name": "Python 3"
    },
    "language_info": {
      "name": "python"
    }
  },
  "cells": [
    {
      "cell_type": "markdown",
      "metadata": {
        "id": "view-in-github",
        "colab_type": "text"
      },
      "source": [
        "<a href=\"https://colab.research.google.com/github/MrDataAnalyst/Pandas-Data-Science-Tasks/blob/master/Data_joining_and_manipulation.ipynb\" target=\"_parent\"><img src=\"https://colab.research.google.com/assets/colab-badge.svg\" alt=\"Open In Colab\"/></a>"
      ]
    },
    {
      "cell_type": "code",
      "metadata": {
        "id": "O8RlR28vXlrt"
      },
      "source": [
        "import pandas as pd\n",
        "import matplotlib.pyplot as plt\n",
        "import numpy as np"
      ],
      "execution_count": 39,
      "outputs": []
    },
    {
      "cell_type": "code",
      "metadata": {
        "id": "NvHCwbRZXqgU"
      },
      "source": [
        "population = pd.read_excel('P11-Country-Population.xls')\n",
        "life_exp = pd.read_excel('P11-Life-Expectancy-At-Birth.xls')"
      ],
      "execution_count": 40,
      "outputs": []
    },
    {
      "cell_type": "code",
      "metadata": {
        "colab": {
          "base_uri": "https://localhost:8080/",
          "height": 198
        },
        "id": "d_PnNj1sXqnF",
        "outputId": "fa2d6519-0c83-449f-b696-e2f6cf9a1cef"
      },
      "source": [
        "# w funkcji definiujemy zmienne które NIE zostaną zagregowane - będą zduplikowane w każdym wierszu. \n",
        "aggsMelt = population.melt(id_vars=['Country Name', 'Country Code', 'Indicator Name','Indicator Code'])\n",
        "aggsMelt.head()"
      ],
      "execution_count": 41,
      "outputs": [
        {
          "output_type": "execute_result",
          "data": {
            "text/html": [
              "<div>\n",
              "<style scoped>\n",
              "    .dataframe tbody tr th:only-of-type {\n",
              "        vertical-align: middle;\n",
              "    }\n",
              "\n",
              "    .dataframe tbody tr th {\n",
              "        vertical-align: top;\n",
              "    }\n",
              "\n",
              "    .dataframe thead th {\n",
              "        text-align: right;\n",
              "    }\n",
              "</style>\n",
              "<table border=\"1\" class=\"dataframe\">\n",
              "  <thead>\n",
              "    <tr style=\"text-align: right;\">\n",
              "      <th></th>\n",
              "      <th>Country Name</th>\n",
              "      <th>Country Code</th>\n",
              "      <th>Indicator Name</th>\n",
              "      <th>Indicator Code</th>\n",
              "      <th>variable</th>\n",
              "      <th>value</th>\n",
              "    </tr>\n",
              "  </thead>\n",
              "  <tbody>\n",
              "    <tr>\n",
              "      <th>0</th>\n",
              "      <td>Aruba</td>\n",
              "      <td>ABW</td>\n",
              "      <td>Population, total</td>\n",
              "      <td>SP.POP.TOTL</td>\n",
              "      <td>1960</td>\n",
              "      <td>54208.0</td>\n",
              "    </tr>\n",
              "    <tr>\n",
              "      <th>1</th>\n",
              "      <td>Andorra</td>\n",
              "      <td>AND</td>\n",
              "      <td>Population, total</td>\n",
              "      <td>SP.POP.TOTL</td>\n",
              "      <td>1960</td>\n",
              "      <td>13414.0</td>\n",
              "    </tr>\n",
              "    <tr>\n",
              "      <th>2</th>\n",
              "      <td>Afghanistan</td>\n",
              "      <td>AFG</td>\n",
              "      <td>Population, total</td>\n",
              "      <td>SP.POP.TOTL</td>\n",
              "      <td>1960</td>\n",
              "      <td>8994793.0</td>\n",
              "    </tr>\n",
              "    <tr>\n",
              "      <th>3</th>\n",
              "      <td>Angola</td>\n",
              "      <td>AGO</td>\n",
              "      <td>Population, total</td>\n",
              "      <td>SP.POP.TOTL</td>\n",
              "      <td>1960</td>\n",
              "      <td>5270844.0</td>\n",
              "    </tr>\n",
              "    <tr>\n",
              "      <th>4</th>\n",
              "      <td>Albania</td>\n",
              "      <td>ALB</td>\n",
              "      <td>Population, total</td>\n",
              "      <td>SP.POP.TOTL</td>\n",
              "      <td>1960</td>\n",
              "      <td>1608800.0</td>\n",
              "    </tr>\n",
              "  </tbody>\n",
              "</table>\n",
              "</div>"
            ],
            "text/plain": [
              "  Country Name Country Code  ... variable      value\n",
              "0        Aruba          ABW  ...     1960    54208.0\n",
              "1      Andorra          AND  ...     1960    13414.0\n",
              "2  Afghanistan          AFG  ...     1960  8994793.0\n",
              "3       Angola          AGO  ...     1960  5270844.0\n",
              "4      Albania          ALB  ...     1960  1608800.0\n",
              "\n",
              "[5 rows x 6 columns]"
            ]
          },
          "metadata": {
            "tags": []
          },
          "execution_count": 41
        }
      ]
    },
    {
      "cell_type": "code",
      "metadata": {
        "colab": {
          "base_uri": "https://localhost:8080/",
          "height": 227
        },
        "id": "p1KjIcvEXqsR",
        "outputId": "40c3e66b-cba2-41f8-b148-1ee5f3c4aae2"
      },
      "source": [
        "population.head(3)"
      ],
      "execution_count": 42,
      "outputs": [
        {
          "output_type": "execute_result",
          "data": {
            "text/html": [
              "<div>\n",
              "<style scoped>\n",
              "    .dataframe tbody tr th:only-of-type {\n",
              "        vertical-align: middle;\n",
              "    }\n",
              "\n",
              "    .dataframe tbody tr th {\n",
              "        vertical-align: top;\n",
              "    }\n",
              "\n",
              "    .dataframe thead th {\n",
              "        text-align: right;\n",
              "    }\n",
              "</style>\n",
              "<table border=\"1\" class=\"dataframe\">\n",
              "  <thead>\n",
              "    <tr style=\"text-align: right;\">\n",
              "      <th></th>\n",
              "      <th>Country Name</th>\n",
              "      <th>Country Code</th>\n",
              "      <th>Indicator Name</th>\n",
              "      <th>Indicator Code</th>\n",
              "      <th>1960</th>\n",
              "      <th>1961</th>\n",
              "      <th>1962</th>\n",
              "      <th>1963</th>\n",
              "      <th>1964</th>\n",
              "      <th>1965</th>\n",
              "      <th>1966</th>\n",
              "      <th>1967</th>\n",
              "      <th>1968</th>\n",
              "      <th>1969</th>\n",
              "      <th>1970</th>\n",
              "      <th>1971</th>\n",
              "      <th>1972</th>\n",
              "      <th>1973</th>\n",
              "      <th>1974</th>\n",
              "      <th>1975</th>\n",
              "      <th>1976</th>\n",
              "      <th>1977</th>\n",
              "      <th>1978</th>\n",
              "      <th>1979</th>\n",
              "      <th>1980</th>\n",
              "      <th>1981</th>\n",
              "      <th>1982</th>\n",
              "      <th>1983</th>\n",
              "      <th>1984</th>\n",
              "      <th>1985</th>\n",
              "      <th>1986</th>\n",
              "      <th>1987</th>\n",
              "      <th>1988</th>\n",
              "      <th>1989</th>\n",
              "      <th>1990</th>\n",
              "      <th>1991</th>\n",
              "      <th>1992</th>\n",
              "      <th>1993</th>\n",
              "      <th>1994</th>\n",
              "      <th>1995</th>\n",
              "      <th>1996</th>\n",
              "      <th>1997</th>\n",
              "      <th>1998</th>\n",
              "      <th>1999</th>\n",
              "      <th>2000</th>\n",
              "      <th>2001</th>\n",
              "      <th>2002</th>\n",
              "      <th>2003</th>\n",
              "      <th>2004</th>\n",
              "      <th>2005</th>\n",
              "      <th>2006</th>\n",
              "      <th>2007</th>\n",
              "      <th>2008</th>\n",
              "      <th>2009</th>\n",
              "      <th>2010</th>\n",
              "      <th>2011</th>\n",
              "      <th>2012</th>\n",
              "      <th>2013</th>\n",
              "    </tr>\n",
              "  </thead>\n",
              "  <tbody>\n",
              "    <tr>\n",
              "      <th>0</th>\n",
              "      <td>Aruba</td>\n",
              "      <td>ABW</td>\n",
              "      <td>Population, total</td>\n",
              "      <td>SP.POP.TOTL</td>\n",
              "      <td>54208.0</td>\n",
              "      <td>55435.0</td>\n",
              "      <td>56226.0</td>\n",
              "      <td>56697.0</td>\n",
              "      <td>57029.0</td>\n",
              "      <td>57360.0</td>\n",
              "      <td>57712.0</td>\n",
              "      <td>58049.0</td>\n",
              "      <td>58385.0</td>\n",
              "      <td>58724.0</td>\n",
              "      <td>59065.0</td>\n",
              "      <td>59438.0</td>\n",
              "      <td>59849.0</td>\n",
              "      <td>60239.0</td>\n",
              "      <td>60525.0</td>\n",
              "      <td>60655.0</td>\n",
              "      <td>60589.0</td>\n",
              "      <td>60366.0</td>\n",
              "      <td>60106.0</td>\n",
              "      <td>59978.0</td>\n",
              "      <td>60096.0</td>\n",
              "      <td>60567.0</td>\n",
              "      <td>61344.0</td>\n",
              "      <td>62204.0</td>\n",
              "      <td>62831.0</td>\n",
              "      <td>63028.0</td>\n",
              "      <td>62644.0</td>\n",
              "      <td>61835.0</td>\n",
              "      <td>61077.0</td>\n",
              "      <td>61032.0</td>\n",
              "      <td>62148.0</td>\n",
              "      <td>64623.0</td>\n",
              "      <td>68235.0</td>\n",
              "      <td>72498.0</td>\n",
              "      <td>76700.0</td>\n",
              "      <td>80326.0</td>\n",
              "      <td>83195.0</td>\n",
              "      <td>85447.0</td>\n",
              "      <td>87276.0</td>\n",
              "      <td>89004.0</td>\n",
              "      <td>90858.0</td>\n",
              "      <td>92894.0</td>\n",
              "      <td>94995.0</td>\n",
              "      <td>97015.0</td>\n",
              "      <td>98742.0</td>\n",
              "      <td>100031.0</td>\n",
              "      <td>100830.0</td>\n",
              "      <td>101218.0</td>\n",
              "      <td>101342.0</td>\n",
              "      <td>101416.0</td>\n",
              "      <td>101597.0</td>\n",
              "      <td>101936.0</td>\n",
              "      <td>102393.0</td>\n",
              "      <td>102921.0</td>\n",
              "    </tr>\n",
              "    <tr>\n",
              "      <th>1</th>\n",
              "      <td>Andorra</td>\n",
              "      <td>AND</td>\n",
              "      <td>Population, total</td>\n",
              "      <td>SP.POP.TOTL</td>\n",
              "      <td>13414.0</td>\n",
              "      <td>14376.0</td>\n",
              "      <td>15376.0</td>\n",
              "      <td>16410.0</td>\n",
              "      <td>17470.0</td>\n",
              "      <td>18551.0</td>\n",
              "      <td>19646.0</td>\n",
              "      <td>20755.0</td>\n",
              "      <td>21888.0</td>\n",
              "      <td>23061.0</td>\n",
              "      <td>24279.0</td>\n",
              "      <td>25560.0</td>\n",
              "      <td>26892.0</td>\n",
              "      <td>28231.0</td>\n",
              "      <td>29514.0</td>\n",
              "      <td>30706.0</td>\n",
              "      <td>31781.0</td>\n",
              "      <td>32769.0</td>\n",
              "      <td>33746.0</td>\n",
              "      <td>34819.0</td>\n",
              "      <td>36063.0</td>\n",
              "      <td>37502.0</td>\n",
              "      <td>39112.0</td>\n",
              "      <td>40862.0</td>\n",
              "      <td>42704.0</td>\n",
              "      <td>44597.0</td>\n",
              "      <td>46515.0</td>\n",
              "      <td>48458.0</td>\n",
              "      <td>50431.0</td>\n",
              "      <td>52449.0</td>\n",
              "      <td>54511.0</td>\n",
              "      <td>56674.0</td>\n",
              "      <td>58904.0</td>\n",
              "      <td>61003.0</td>\n",
              "      <td>62707.0</td>\n",
              "      <td>63854.0</td>\n",
              "      <td>64291.0</td>\n",
              "      <td>64147.0</td>\n",
              "      <td>63888.0</td>\n",
              "      <td>64161.0</td>\n",
              "      <td>65399.0</td>\n",
              "      <td>67770.0</td>\n",
              "      <td>71046.0</td>\n",
              "      <td>74783.0</td>\n",
              "      <td>78337.0</td>\n",
              "      <td>81223.0</td>\n",
              "      <td>83373.0</td>\n",
              "      <td>84878.0</td>\n",
              "      <td>85616.0</td>\n",
              "      <td>85474.0</td>\n",
              "      <td>84419.0</td>\n",
              "      <td>82326.0</td>\n",
              "      <td>79316.0</td>\n",
              "      <td>75902.0</td>\n",
              "    </tr>\n",
              "    <tr>\n",
              "      <th>2</th>\n",
              "      <td>Afghanistan</td>\n",
              "      <td>AFG</td>\n",
              "      <td>Population, total</td>\n",
              "      <td>SP.POP.TOTL</td>\n",
              "      <td>8994793.0</td>\n",
              "      <td>9164945.0</td>\n",
              "      <td>9343772.0</td>\n",
              "      <td>9531555.0</td>\n",
              "      <td>9728645.0</td>\n",
              "      <td>9935358.0</td>\n",
              "      <td>10148841.0</td>\n",
              "      <td>10368600.0</td>\n",
              "      <td>10599790.0</td>\n",
              "      <td>10849510.0</td>\n",
              "      <td>11121097.0</td>\n",
              "      <td>11412821.0</td>\n",
              "      <td>11716896.0</td>\n",
              "      <td>12022514.0</td>\n",
              "      <td>12315553.0</td>\n",
              "      <td>12582954.0</td>\n",
              "      <td>12831361.0</td>\n",
              "      <td>13056499.0</td>\n",
              "      <td>13222547.0</td>\n",
              "      <td>13283279.0</td>\n",
              "      <td>13211412.0</td>\n",
              "      <td>12996923.0</td>\n",
              "      <td>12667001.0</td>\n",
              "      <td>12279095.0</td>\n",
              "      <td>11912510.0</td>\n",
              "      <td>11630498.0</td>\n",
              "      <td>11438949.0</td>\n",
              "      <td>11337932.0</td>\n",
              "      <td>11375768.0</td>\n",
              "      <td>11608351.0</td>\n",
              "      <td>12067570.0</td>\n",
              "      <td>12789374.0</td>\n",
              "      <td>13745630.0</td>\n",
              "      <td>14824371.0</td>\n",
              "      <td>15869967.0</td>\n",
              "      <td>16772522.0</td>\n",
              "      <td>17481800.0</td>\n",
              "      <td>18034130.0</td>\n",
              "      <td>18511480.0</td>\n",
              "      <td>19038420.0</td>\n",
              "      <td>19701940.0</td>\n",
              "      <td>20531160.0</td>\n",
              "      <td>21487079.0</td>\n",
              "      <td>22507368.0</td>\n",
              "      <td>23499850.0</td>\n",
              "      <td>24399948.0</td>\n",
              "      <td>25183615.0</td>\n",
              "      <td>25877544.0</td>\n",
              "      <td>26528741.0</td>\n",
              "      <td>27207291.0</td>\n",
              "      <td>27962207.0</td>\n",
              "      <td>28809167.0</td>\n",
              "      <td>29726803.0</td>\n",
              "      <td>30682500.0</td>\n",
              "    </tr>\n",
              "  </tbody>\n",
              "</table>\n",
              "</div>"
            ],
            "text/plain": [
              "  Country Name Country Code  ...        2012        2013\n",
              "0        Aruba          ABW  ...    102393.0    102921.0\n",
              "1      Andorra          AND  ...     79316.0     75902.0\n",
              "2  Afghanistan          AFG  ...  29726803.0  30682500.0\n",
              "\n",
              "[3 rows x 58 columns]"
            ]
          },
          "metadata": {
            "tags": []
          },
          "execution_count": 42
        }
      ]
    },
    {
      "cell_type": "code",
      "metadata": {
        "id": "WtaISAN3Xqw_"
      },
      "source": [
        "aggsMelt.head(3)\n",
        "aggsMelt.rename(columns = {'variable':'Year'},inplace=True)\n",
        "aggsMelt.rename(columns = {'value':'Population'},inplace=True)"
      ],
      "execution_count": 43,
      "outputs": []
    },
    {
      "cell_type": "code",
      "metadata": {
        "colab": {
          "base_uri": "https://localhost:8080/",
          "height": 138
        },
        "id": "vQcp3ZeLXq5r",
        "outputId": "c2fbfe66-20ec-415e-d436-8c3b96d256b2"
      },
      "source": [
        "life = life_exp.melt(id_vars=['Country Name','Country Code','Indicator Name','Indicator Code'])\n",
        "life.head(3)"
      ],
      "execution_count": 44,
      "outputs": [
        {
          "output_type": "execute_result",
          "data": {
            "text/html": [
              "<div>\n",
              "<style scoped>\n",
              "    .dataframe tbody tr th:only-of-type {\n",
              "        vertical-align: middle;\n",
              "    }\n",
              "\n",
              "    .dataframe tbody tr th {\n",
              "        vertical-align: top;\n",
              "    }\n",
              "\n",
              "    .dataframe thead th {\n",
              "        text-align: right;\n",
              "    }\n",
              "</style>\n",
              "<table border=\"1\" class=\"dataframe\">\n",
              "  <thead>\n",
              "    <tr style=\"text-align: right;\">\n",
              "      <th></th>\n",
              "      <th>Country Name</th>\n",
              "      <th>Country Code</th>\n",
              "      <th>Indicator Name</th>\n",
              "      <th>Indicator Code</th>\n",
              "      <th>variable</th>\n",
              "      <th>value</th>\n",
              "    </tr>\n",
              "  </thead>\n",
              "  <tbody>\n",
              "    <tr>\n",
              "      <th>0</th>\n",
              "      <td>Aruba</td>\n",
              "      <td>ABW</td>\n",
              "      <td>Life expectancy at birth, total (years)</td>\n",
              "      <td>SP.DYN.LE00.IN</td>\n",
              "      <td>1960</td>\n",
              "      <td>65.569366</td>\n",
              "    </tr>\n",
              "    <tr>\n",
              "      <th>1</th>\n",
              "      <td>Andorra</td>\n",
              "      <td>AND</td>\n",
              "      <td>Life expectancy at birth, total (years)</td>\n",
              "      <td>SP.DYN.LE00.IN</td>\n",
              "      <td>1960</td>\n",
              "      <td>NaN</td>\n",
              "    </tr>\n",
              "    <tr>\n",
              "      <th>2</th>\n",
              "      <td>Afghanistan</td>\n",
              "      <td>AFG</td>\n",
              "      <td>Life expectancy at birth, total (years)</td>\n",
              "      <td>SP.DYN.LE00.IN</td>\n",
              "      <td>1960</td>\n",
              "      <td>31.580049</td>\n",
              "    </tr>\n",
              "  </tbody>\n",
              "</table>\n",
              "</div>"
            ],
            "text/plain": [
              "  Country Name Country Code  ... variable      value\n",
              "0        Aruba          ABW  ...     1960  65.569366\n",
              "1      Andorra          AND  ...     1960        NaN\n",
              "2  Afghanistan          AFG  ...     1960  31.580049\n",
              "\n",
              "[3 rows x 6 columns]"
            ]
          },
          "metadata": {
            "tags": []
          },
          "execution_count": 44
        }
      ]
    },
    {
      "cell_type": "code",
      "metadata": {
        "id": "QP858nPrXq-f"
      },
      "source": [
        "life = life.rename(columns = {'variable':'Year','value':'Life_exp'})"
      ],
      "execution_count": 45,
      "outputs": []
    },
    {
      "cell_type": "code",
      "metadata": {
        "id": "05SESkgsXrC3"
      },
      "source": [
        "data = pd.merge(aggsMelt,life, on = 'Country Code', how = 'left')"
      ],
      "execution_count": 46,
      "outputs": []
    },
    {
      "cell_type": "code",
      "metadata": {
        "id": "mLs6d9skXrHF",
        "colab": {
          "base_uri": "https://localhost:8080/",
          "height": 138
        },
        "outputId": "653b0974-ad96-4414-a49b-57cc637b5448"
      },
      "source": [
        "data.head(3)"
      ],
      "execution_count": 47,
      "outputs": [
        {
          "output_type": "execute_result",
          "data": {
            "text/html": [
              "<div>\n",
              "<style scoped>\n",
              "    .dataframe tbody tr th:only-of-type {\n",
              "        vertical-align: middle;\n",
              "    }\n",
              "\n",
              "    .dataframe tbody tr th {\n",
              "        vertical-align: top;\n",
              "    }\n",
              "\n",
              "    .dataframe thead th {\n",
              "        text-align: right;\n",
              "    }\n",
              "</style>\n",
              "<table border=\"1\" class=\"dataframe\">\n",
              "  <thead>\n",
              "    <tr style=\"text-align: right;\">\n",
              "      <th></th>\n",
              "      <th>Country Name_x</th>\n",
              "      <th>Country Code</th>\n",
              "      <th>Indicator Name_x</th>\n",
              "      <th>Indicator Code_x</th>\n",
              "      <th>Year_x</th>\n",
              "      <th>Population</th>\n",
              "      <th>Country Name_y</th>\n",
              "      <th>Indicator Name_y</th>\n",
              "      <th>Indicator Code_y</th>\n",
              "      <th>Year_y</th>\n",
              "      <th>Life_exp</th>\n",
              "    </tr>\n",
              "  </thead>\n",
              "  <tbody>\n",
              "    <tr>\n",
              "      <th>0</th>\n",
              "      <td>Aruba</td>\n",
              "      <td>ABW</td>\n",
              "      <td>Population, total</td>\n",
              "      <td>SP.POP.TOTL</td>\n",
              "      <td>1960</td>\n",
              "      <td>54208.0</td>\n",
              "      <td>Aruba</td>\n",
              "      <td>Life expectancy at birth, total (years)</td>\n",
              "      <td>SP.DYN.LE00.IN</td>\n",
              "      <td>1960</td>\n",
              "      <td>65.569366</td>\n",
              "    </tr>\n",
              "    <tr>\n",
              "      <th>1</th>\n",
              "      <td>Aruba</td>\n",
              "      <td>ABW</td>\n",
              "      <td>Population, total</td>\n",
              "      <td>SP.POP.TOTL</td>\n",
              "      <td>1960</td>\n",
              "      <td>54208.0</td>\n",
              "      <td>Aruba</td>\n",
              "      <td>Life expectancy at birth, total (years)</td>\n",
              "      <td>SP.DYN.LE00.IN</td>\n",
              "      <td>1961</td>\n",
              "      <td>65.988024</td>\n",
              "    </tr>\n",
              "    <tr>\n",
              "      <th>2</th>\n",
              "      <td>Aruba</td>\n",
              "      <td>ABW</td>\n",
              "      <td>Population, total</td>\n",
              "      <td>SP.POP.TOTL</td>\n",
              "      <td>1960</td>\n",
              "      <td>54208.0</td>\n",
              "      <td>Aruba</td>\n",
              "      <td>Life expectancy at birth, total (years)</td>\n",
              "      <td>SP.DYN.LE00.IN</td>\n",
              "      <td>1962</td>\n",
              "      <td>66.365537</td>\n",
              "    </tr>\n",
              "  </tbody>\n",
              "</table>\n",
              "</div>"
            ],
            "text/plain": [
              "  Country Name_x Country Code  ... Year_y   Life_exp\n",
              "0          Aruba          ABW  ...   1960  65.569366\n",
              "1          Aruba          ABW  ...   1961  65.988024\n",
              "2          Aruba          ABW  ...   1962  66.365537\n",
              "\n",
              "[3 rows x 11 columns]"
            ]
          },
          "metadata": {
            "tags": []
          },
          "execution_count": 47
        }
      ]
    },
    {
      "cell_type": "code",
      "metadata": {
        "id": "HTfdGydOXrLE",
        "colab": {
          "base_uri": "https://localhost:8080/",
          "height": 138
        },
        "outputId": "e3cb27da-6895-43a5-dd52-5f62586b866c"
      },
      "source": [
        "#Filtering by value\n",
        "\n",
        "data.loc[data.Year_x == '1960'].head(3)"
      ],
      "execution_count": 48,
      "outputs": [
        {
          "output_type": "execute_result",
          "data": {
            "text/html": [
              "<div>\n",
              "<style scoped>\n",
              "    .dataframe tbody tr th:only-of-type {\n",
              "        vertical-align: middle;\n",
              "    }\n",
              "\n",
              "    .dataframe tbody tr th {\n",
              "        vertical-align: top;\n",
              "    }\n",
              "\n",
              "    .dataframe thead th {\n",
              "        text-align: right;\n",
              "    }\n",
              "</style>\n",
              "<table border=\"1\" class=\"dataframe\">\n",
              "  <thead>\n",
              "    <tr style=\"text-align: right;\">\n",
              "      <th></th>\n",
              "      <th>Country Name_x</th>\n",
              "      <th>Country Code</th>\n",
              "      <th>Indicator Name_x</th>\n",
              "      <th>Indicator Code_x</th>\n",
              "      <th>Year_x</th>\n",
              "      <th>Population</th>\n",
              "      <th>Country Name_y</th>\n",
              "      <th>Indicator Name_y</th>\n",
              "      <th>Indicator Code_y</th>\n",
              "      <th>Year_y</th>\n",
              "      <th>Life_exp</th>\n",
              "    </tr>\n",
              "  </thead>\n",
              "  <tbody>\n",
              "    <tr>\n",
              "      <th>0</th>\n",
              "      <td>Aruba</td>\n",
              "      <td>ABW</td>\n",
              "      <td>Population, total</td>\n",
              "      <td>SP.POP.TOTL</td>\n",
              "      <td>1960</td>\n",
              "      <td>54208.0</td>\n",
              "      <td>Aruba</td>\n",
              "      <td>Life expectancy at birth, total (years)</td>\n",
              "      <td>SP.DYN.LE00.IN</td>\n",
              "      <td>1960</td>\n",
              "      <td>65.569366</td>\n",
              "    </tr>\n",
              "    <tr>\n",
              "      <th>1</th>\n",
              "      <td>Aruba</td>\n",
              "      <td>ABW</td>\n",
              "      <td>Population, total</td>\n",
              "      <td>SP.POP.TOTL</td>\n",
              "      <td>1960</td>\n",
              "      <td>54208.0</td>\n",
              "      <td>Aruba</td>\n",
              "      <td>Life expectancy at birth, total (years)</td>\n",
              "      <td>SP.DYN.LE00.IN</td>\n",
              "      <td>1961</td>\n",
              "      <td>65.988024</td>\n",
              "    </tr>\n",
              "    <tr>\n",
              "      <th>2</th>\n",
              "      <td>Aruba</td>\n",
              "      <td>ABW</td>\n",
              "      <td>Population, total</td>\n",
              "      <td>SP.POP.TOTL</td>\n",
              "      <td>1960</td>\n",
              "      <td>54208.0</td>\n",
              "      <td>Aruba</td>\n",
              "      <td>Life expectancy at birth, total (years)</td>\n",
              "      <td>SP.DYN.LE00.IN</td>\n",
              "      <td>1962</td>\n",
              "      <td>66.365537</td>\n",
              "    </tr>\n",
              "  </tbody>\n",
              "</table>\n",
              "</div>"
            ],
            "text/plain": [
              "  Country Name_x Country Code  ... Year_y   Life_exp\n",
              "0          Aruba          ABW  ...   1960  65.569366\n",
              "1          Aruba          ABW  ...   1961  65.988024\n",
              "2          Aruba          ABW  ...   1962  66.365537\n",
              "\n",
              "[3 rows x 11 columns]"
            ]
          },
          "metadata": {
            "tags": []
          },
          "execution_count": 48
        }
      ]
    },
    {
      "cell_type": "code",
      "metadata": {
        "id": "vQBaokN7XrPB"
      },
      "source": [
        "data.rename(columns = {'Country Name_x':'Country_Name_x',\n",
        "                       'Country Code':'Country_Code',\n",
        "                       'Indicator Name_x':'Indicator_Name_x'\n",
        "\n",
        "\n",
        "}, inplace = True)"
      ],
      "execution_count": 49,
      "outputs": []
    },
    {
      "cell_type": "code",
      "metadata": {
        "id": "zdhGpB1nXrS-",
        "colab": {
          "base_uri": "https://localhost:8080/",
          "height": 138
        },
        "outputId": "a61a9ed7-c0cd-4e8c-dff2-1711e69b71bc"
      },
      "source": [
        "data.loc[data.Country_Code == 'ABW'].head(3)"
      ],
      "execution_count": 50,
      "outputs": [
        {
          "output_type": "execute_result",
          "data": {
            "text/html": [
              "<div>\n",
              "<style scoped>\n",
              "    .dataframe tbody tr th:only-of-type {\n",
              "        vertical-align: middle;\n",
              "    }\n",
              "\n",
              "    .dataframe tbody tr th {\n",
              "        vertical-align: top;\n",
              "    }\n",
              "\n",
              "    .dataframe thead th {\n",
              "        text-align: right;\n",
              "    }\n",
              "</style>\n",
              "<table border=\"1\" class=\"dataframe\">\n",
              "  <thead>\n",
              "    <tr style=\"text-align: right;\">\n",
              "      <th></th>\n",
              "      <th>Country_Name_x</th>\n",
              "      <th>Country_Code</th>\n",
              "      <th>Indicator_Name_x</th>\n",
              "      <th>Indicator Code_x</th>\n",
              "      <th>Year_x</th>\n",
              "      <th>Population</th>\n",
              "      <th>Country Name_y</th>\n",
              "      <th>Indicator Name_y</th>\n",
              "      <th>Indicator Code_y</th>\n",
              "      <th>Year_y</th>\n",
              "      <th>Life_exp</th>\n",
              "    </tr>\n",
              "  </thead>\n",
              "  <tbody>\n",
              "    <tr>\n",
              "      <th>0</th>\n",
              "      <td>Aruba</td>\n",
              "      <td>ABW</td>\n",
              "      <td>Population, total</td>\n",
              "      <td>SP.POP.TOTL</td>\n",
              "      <td>1960</td>\n",
              "      <td>54208.0</td>\n",
              "      <td>Aruba</td>\n",
              "      <td>Life expectancy at birth, total (years)</td>\n",
              "      <td>SP.DYN.LE00.IN</td>\n",
              "      <td>1960</td>\n",
              "      <td>65.569366</td>\n",
              "    </tr>\n",
              "    <tr>\n",
              "      <th>1</th>\n",
              "      <td>Aruba</td>\n",
              "      <td>ABW</td>\n",
              "      <td>Population, total</td>\n",
              "      <td>SP.POP.TOTL</td>\n",
              "      <td>1960</td>\n",
              "      <td>54208.0</td>\n",
              "      <td>Aruba</td>\n",
              "      <td>Life expectancy at birth, total (years)</td>\n",
              "      <td>SP.DYN.LE00.IN</td>\n",
              "      <td>1961</td>\n",
              "      <td>65.988024</td>\n",
              "    </tr>\n",
              "    <tr>\n",
              "      <th>2</th>\n",
              "      <td>Aruba</td>\n",
              "      <td>ABW</td>\n",
              "      <td>Population, total</td>\n",
              "      <td>SP.POP.TOTL</td>\n",
              "      <td>1960</td>\n",
              "      <td>54208.0</td>\n",
              "      <td>Aruba</td>\n",
              "      <td>Life expectancy at birth, total (years)</td>\n",
              "      <td>SP.DYN.LE00.IN</td>\n",
              "      <td>1962</td>\n",
              "      <td>66.365537</td>\n",
              "    </tr>\n",
              "  </tbody>\n",
              "</table>\n",
              "</div>"
            ],
            "text/plain": [
              "  Country_Name_x Country_Code  ... Year_y   Life_exp\n",
              "0          Aruba          ABW  ...   1960  65.569366\n",
              "1          Aruba          ABW  ...   1961  65.988024\n",
              "2          Aruba          ABW  ...   1962  66.365537\n",
              "\n",
              "[3 rows x 11 columns]"
            ]
          },
          "metadata": {
            "tags": []
          },
          "execution_count": 50
        }
      ]
    },
    {
      "cell_type": "code",
      "metadata": {
        "id": "g5B_evQ2XrXA",
        "colab": {
          "base_uri": "https://localhost:8080/"
        },
        "outputId": "00536d49-1bde-4051-ef98-975797c5de5e"
      },
      "source": [
        "data['Country_Code'].tail()"
      ],
      "execution_count": 51,
      "outputs": [
        {
          "output_type": "execute_result",
          "data": {
            "text/plain": [
              "626935    ZWE\n",
              "626936    ZWE\n",
              "626937    ZWE\n",
              "626938    ZWE\n",
              "626939    ZWE\n",
              "Name: Country_Code, dtype: object"
            ]
          },
          "metadata": {
            "tags": []
          },
          "execution_count": 51
        }
      ]
    },
    {
      "cell_type": "code",
      "metadata": {
        "id": "vkIU7-v6Xra8",
        "colab": {
          "base_uri": "https://localhost:8080/",
          "height": 198
        },
        "outputId": "753f2f60-8c59-486a-f1fd-5688cf9b8a3b"
      },
      "source": [
        "\n",
        "#filtering by multiple criteria\n",
        "data.loc[data.Country_Code.isin(['ABW','ZWE'])].sample(5)"
      ],
      "execution_count": 52,
      "outputs": [
        {
          "output_type": "execute_result",
          "data": {
            "text/html": [
              "<div>\n",
              "<style scoped>\n",
              "    .dataframe tbody tr th:only-of-type {\n",
              "        vertical-align: middle;\n",
              "    }\n",
              "\n",
              "    .dataframe tbody tr th {\n",
              "        vertical-align: top;\n",
              "    }\n",
              "\n",
              "    .dataframe thead th {\n",
              "        text-align: right;\n",
              "    }\n",
              "</style>\n",
              "<table border=\"1\" class=\"dataframe\">\n",
              "  <thead>\n",
              "    <tr style=\"text-align: right;\">\n",
              "      <th></th>\n",
              "      <th>Country_Name_x</th>\n",
              "      <th>Country_Code</th>\n",
              "      <th>Indicator_Name_x</th>\n",
              "      <th>Indicator Code_x</th>\n",
              "      <th>Year_x</th>\n",
              "      <th>Population</th>\n",
              "      <th>Country Name_y</th>\n",
              "      <th>Indicator Name_y</th>\n",
              "      <th>Indicator Code_y</th>\n",
              "      <th>Year_y</th>\n",
              "      <th>Life_exp</th>\n",
              "    </tr>\n",
              "  </thead>\n",
              "  <tbody>\n",
              "    <tr>\n",
              "      <th>603686</th>\n",
              "      <td>Zimbabwe</td>\n",
              "      <td>ZWE</td>\n",
              "      <td>Population, total</td>\n",
              "      <td>SP.POP.TOTL</td>\n",
              "      <td>2011</td>\n",
              "      <td>14255592.0</td>\n",
              "      <td>Zimbabwe</td>\n",
              "      <td>Life expectancy at birth, total (years)</td>\n",
              "      <td>SP.DYN.LE00.IN</td>\n",
              "      <td>1980</td>\n",
              "      <td>59.377610</td>\n",
              "    </tr>\n",
              "    <tr>\n",
              "      <th>301841</th>\n",
              "      <td>Zimbabwe</td>\n",
              "      <td>ZWE</td>\n",
              "      <td>Population, total</td>\n",
              "      <td>SP.POP.TOTL</td>\n",
              "      <td>1985</td>\n",
              "      <td>8862601.0</td>\n",
              "      <td>Zimbabwe</td>\n",
              "      <td>Life expectancy at birth, total (years)</td>\n",
              "      <td>SP.DYN.LE00.IN</td>\n",
              "      <td>1995</td>\n",
              "      <td>51.341024</td>\n",
              "    </tr>\n",
              "    <tr>\n",
              "      <th>81219</th>\n",
              "      <td>Zimbabwe</td>\n",
              "      <td>ZWE</td>\n",
              "      <td>Population, total</td>\n",
              "      <td>SP.POP.TOTL</td>\n",
              "      <td>1966</td>\n",
              "      <td>4568320.0</td>\n",
              "      <td>Zimbabwe</td>\n",
              "      <td>Life expectancy at birth, total (years)</td>\n",
              "      <td>SP.DYN.LE00.IN</td>\n",
              "      <td>1963</td>\n",
              "      <td>52.629317</td>\n",
              "    </tr>\n",
              "    <tr>\n",
              "      <th>499235</th>\n",
              "      <td>Aruba</td>\n",
              "      <td>ABW</td>\n",
              "      <td>Population, total</td>\n",
              "      <td>SP.POP.TOTL</td>\n",
              "      <td>2003</td>\n",
              "      <td>97015.0</td>\n",
              "      <td>Aruba</td>\n",
              "      <td>Life expectancy at birth, total (years)</td>\n",
              "      <td>SP.DYN.LE00.IN</td>\n",
              "      <td>1965</td>\n",
              "      <td>67.369756</td>\n",
              "    </tr>\n",
              "    <tr>\n",
              "      <th>301900</th>\n",
              "      <td>Aruba</td>\n",
              "      <td>ABW</td>\n",
              "      <td>Population, total</td>\n",
              "      <td>SP.POP.TOTL</td>\n",
              "      <td>1986</td>\n",
              "      <td>62644.0</td>\n",
              "      <td>Aruba</td>\n",
              "      <td>Life expectancy at birth, total (years)</td>\n",
              "      <td>SP.DYN.LE00.IN</td>\n",
              "      <td>2000</td>\n",
              "      <td>73.720610</td>\n",
              "    </tr>\n",
              "  </tbody>\n",
              "</table>\n",
              "</div>"
            ],
            "text/plain": [
              "       Country_Name_x Country_Code  ... Year_y   Life_exp\n",
              "603686       Zimbabwe          ZWE  ...   1980  59.377610\n",
              "301841       Zimbabwe          ZWE  ...   1995  51.341024\n",
              "81219        Zimbabwe          ZWE  ...   1963  52.629317\n",
              "499235          Aruba          ABW  ...   1965  67.369756\n",
              "301900          Aruba          ABW  ...   2000  73.720610\n",
              "\n",
              "[5 rows x 11 columns]"
            ]
          },
          "metadata": {
            "tags": []
          },
          "execution_count": 52
        }
      ]
    },
    {
      "cell_type": "code",
      "metadata": {
        "id": "pfUJURQxXrey",
        "colab": {
          "base_uri": "https://localhost:8080/",
          "height": 198
        },
        "outputId": "c65040ab-d8d6-4818-b64f-5afce07a9bbe"
      },
      "source": [
        "data.tail()"
      ],
      "execution_count": 53,
      "outputs": [
        {
          "output_type": "execute_result",
          "data": {
            "text/html": [
              "<div>\n",
              "<style scoped>\n",
              "    .dataframe tbody tr th:only-of-type {\n",
              "        vertical-align: middle;\n",
              "    }\n",
              "\n",
              "    .dataframe tbody tr th {\n",
              "        vertical-align: top;\n",
              "    }\n",
              "\n",
              "    .dataframe thead th {\n",
              "        text-align: right;\n",
              "    }\n",
              "</style>\n",
              "<table border=\"1\" class=\"dataframe\">\n",
              "  <thead>\n",
              "    <tr style=\"text-align: right;\">\n",
              "      <th></th>\n",
              "      <th>Country_Name_x</th>\n",
              "      <th>Country_Code</th>\n",
              "      <th>Indicator_Name_x</th>\n",
              "      <th>Indicator Code_x</th>\n",
              "      <th>Year_x</th>\n",
              "      <th>Population</th>\n",
              "      <th>Country Name_y</th>\n",
              "      <th>Indicator Name_y</th>\n",
              "      <th>Indicator Code_y</th>\n",
              "      <th>Year_y</th>\n",
              "      <th>Life_exp</th>\n",
              "    </tr>\n",
              "  </thead>\n",
              "  <tbody>\n",
              "    <tr>\n",
              "      <th>626935</th>\n",
              "      <td>Zimbabwe</td>\n",
              "      <td>ZWE</td>\n",
              "      <td>Population, total</td>\n",
              "      <td>SP.POP.TOTL</td>\n",
              "      <td>2013</td>\n",
              "      <td>14898092.0</td>\n",
              "      <td>Zimbabwe</td>\n",
              "      <td>Life expectancy at birth, total (years)</td>\n",
              "      <td>SP.DYN.LE00.IN</td>\n",
              "      <td>2009</td>\n",
              "      <td>51.147927</td>\n",
              "    </tr>\n",
              "    <tr>\n",
              "      <th>626936</th>\n",
              "      <td>Zimbabwe</td>\n",
              "      <td>ZWE</td>\n",
              "      <td>Population, total</td>\n",
              "      <td>SP.POP.TOTL</td>\n",
              "      <td>2013</td>\n",
              "      <td>14898092.0</td>\n",
              "      <td>Zimbabwe</td>\n",
              "      <td>Life expectancy at birth, total (years)</td>\n",
              "      <td>SP.DYN.LE00.IN</td>\n",
              "      <td>2010</td>\n",
              "      <td>53.593122</td>\n",
              "    </tr>\n",
              "    <tr>\n",
              "      <th>626937</th>\n",
              "      <td>Zimbabwe</td>\n",
              "      <td>ZWE</td>\n",
              "      <td>Population, total</td>\n",
              "      <td>SP.POP.TOTL</td>\n",
              "      <td>2013</td>\n",
              "      <td>14898092.0</td>\n",
              "      <td>Zimbabwe</td>\n",
              "      <td>Life expectancy at birth, total (years)</td>\n",
              "      <td>SP.DYN.LE00.IN</td>\n",
              "      <td>2011</td>\n",
              "      <td>55.946220</td>\n",
              "    </tr>\n",
              "    <tr>\n",
              "      <th>626938</th>\n",
              "      <td>Zimbabwe</td>\n",
              "      <td>ZWE</td>\n",
              "      <td>Population, total</td>\n",
              "      <td>SP.POP.TOTL</td>\n",
              "      <td>2013</td>\n",
              "      <td>14898092.0</td>\n",
              "      <td>Zimbabwe</td>\n",
              "      <td>Life expectancy at birth, total (years)</td>\n",
              "      <td>SP.DYN.LE00.IN</td>\n",
              "      <td>2012</td>\n",
              "      <td>58.045976</td>\n",
              "    </tr>\n",
              "    <tr>\n",
              "      <th>626939</th>\n",
              "      <td>Zimbabwe</td>\n",
              "      <td>ZWE</td>\n",
              "      <td>Population, total</td>\n",
              "      <td>SP.POP.TOTL</td>\n",
              "      <td>2013</td>\n",
              "      <td>14898092.0</td>\n",
              "      <td>Zimbabwe</td>\n",
              "      <td>Life expectancy at birth, total (years)</td>\n",
              "      <td>SP.DYN.LE00.IN</td>\n",
              "      <td>2013</td>\n",
              "      <td>59.773488</td>\n",
              "    </tr>\n",
              "  </tbody>\n",
              "</table>\n",
              "</div>"
            ],
            "text/plain": [
              "       Country_Name_x Country_Code  ... Year_y   Life_exp\n",
              "626935       Zimbabwe          ZWE  ...   2009  51.147927\n",
              "626936       Zimbabwe          ZWE  ...   2010  53.593122\n",
              "626937       Zimbabwe          ZWE  ...   2011  55.946220\n",
              "626938       Zimbabwe          ZWE  ...   2012  58.045976\n",
              "626939       Zimbabwe          ZWE  ...   2013  59.773488\n",
              "\n",
              "[5 rows x 11 columns]"
            ]
          },
          "metadata": {
            "tags": []
          },
          "execution_count": 53
        }
      ]
    },
    {
      "cell_type": "code",
      "metadata": {
        "id": "SUnVucjjXris",
        "colab": {
          "base_uri": "https://localhost:8080/",
          "height": 138
        },
        "outputId": "43a394c1-ca24-47f1-c609-a6d33cf20324"
      },
      "source": [
        "data.query('Country_Code == \"ZWE\" & Life_exp > 59').head(3)"
      ],
      "execution_count": 54,
      "outputs": [
        {
          "output_type": "execute_result",
          "data": {
            "text/html": [
              "<div>\n",
              "<style scoped>\n",
              "    .dataframe tbody tr th:only-of-type {\n",
              "        vertical-align: middle;\n",
              "    }\n",
              "\n",
              "    .dataframe tbody tr th {\n",
              "        vertical-align: top;\n",
              "    }\n",
              "\n",
              "    .dataframe thead th {\n",
              "        text-align: right;\n",
              "    }\n",
              "</style>\n",
              "<table border=\"1\" class=\"dataframe\">\n",
              "  <thead>\n",
              "    <tr style=\"text-align: right;\">\n",
              "      <th></th>\n",
              "      <th>Country_Name_x</th>\n",
              "      <th>Country_Code</th>\n",
              "      <th>Indicator_Name_x</th>\n",
              "      <th>Indicator Code_x</th>\n",
              "      <th>Year_x</th>\n",
              "      <th>Population</th>\n",
              "      <th>Country Name_y</th>\n",
              "      <th>Indicator Name_y</th>\n",
              "      <th>Indicator Code_y</th>\n",
              "      <th>Year_y</th>\n",
              "      <th>Life_exp</th>\n",
              "    </tr>\n",
              "  </thead>\n",
              "  <tbody>\n",
              "    <tr>\n",
              "      <th>11576</th>\n",
              "      <td>Zimbabwe</td>\n",
              "      <td>ZWE</td>\n",
              "      <td>Population, total</td>\n",
              "      <td>SP.POP.TOTL</td>\n",
              "      <td>1960</td>\n",
              "      <td>3752390.0</td>\n",
              "      <td>Zimbabwe</td>\n",
              "      <td>Life expectancy at birth, total (years)</td>\n",
              "      <td>SP.DYN.LE00.IN</td>\n",
              "      <td>1980</td>\n",
              "      <td>59.377610</td>\n",
              "    </tr>\n",
              "    <tr>\n",
              "      <th>11577</th>\n",
              "      <td>Zimbabwe</td>\n",
              "      <td>ZWE</td>\n",
              "      <td>Population, total</td>\n",
              "      <td>SP.POP.TOTL</td>\n",
              "      <td>1960</td>\n",
              "      <td>3752390.0</td>\n",
              "      <td>Zimbabwe</td>\n",
              "      <td>Life expectancy at birth, total (years)</td>\n",
              "      <td>SP.DYN.LE00.IN</td>\n",
              "      <td>1981</td>\n",
              "      <td>59.944951</td>\n",
              "    </tr>\n",
              "    <tr>\n",
              "      <th>11578</th>\n",
              "      <td>Zimbabwe</td>\n",
              "      <td>ZWE</td>\n",
              "      <td>Population, total</td>\n",
              "      <td>SP.POP.TOTL</td>\n",
              "      <td>1960</td>\n",
              "      <td>3752390.0</td>\n",
              "      <td>Zimbabwe</td>\n",
              "      <td>Life expectancy at birth, total (years)</td>\n",
              "      <td>SP.DYN.LE00.IN</td>\n",
              "      <td>1982</td>\n",
              "      <td>60.466171</td>\n",
              "    </tr>\n",
              "  </tbody>\n",
              "</table>\n",
              "</div>"
            ],
            "text/plain": [
              "      Country_Name_x Country_Code  ... Year_y   Life_exp\n",
              "11576       Zimbabwe          ZWE  ...   1980  59.377610\n",
              "11577       Zimbabwe          ZWE  ...   1981  59.944951\n",
              "11578       Zimbabwe          ZWE  ...   1982  60.466171\n",
              "\n",
              "[3 rows x 11 columns]"
            ]
          },
          "metadata": {
            "tags": []
          },
          "execution_count": 54
        }
      ]
    },
    {
      "cell_type": "code",
      "metadata": {
        "id": "iUCgzFDEXrnI",
        "colab": {
          "base_uri": "https://localhost:8080/",
          "height": 138
        },
        "outputId": "72cee98e-1361-4045-b5c4-5a31aaae932f"
      },
      "source": [
        "data.loc[(data['Year_x'] == '1960') & (data['Life_exp'] < np.mean(data['Life_exp']))].head(3)"
      ],
      "execution_count": 55,
      "outputs": [
        {
          "output_type": "execute_result",
          "data": {
            "text/html": [
              "<div>\n",
              "<style scoped>\n",
              "    .dataframe tbody tr th:only-of-type {\n",
              "        vertical-align: middle;\n",
              "    }\n",
              "\n",
              "    .dataframe tbody tr th {\n",
              "        vertical-align: top;\n",
              "    }\n",
              "\n",
              "    .dataframe thead th {\n",
              "        text-align: right;\n",
              "    }\n",
              "</style>\n",
              "<table border=\"1\" class=\"dataframe\">\n",
              "  <thead>\n",
              "    <tr style=\"text-align: right;\">\n",
              "      <th></th>\n",
              "      <th>Country_Name_x</th>\n",
              "      <th>Country_Code</th>\n",
              "      <th>Indicator_Name_x</th>\n",
              "      <th>Indicator Code_x</th>\n",
              "      <th>Year_x</th>\n",
              "      <th>Population</th>\n",
              "      <th>Country Name_y</th>\n",
              "      <th>Indicator Name_y</th>\n",
              "      <th>Indicator Code_y</th>\n",
              "      <th>Year_y</th>\n",
              "      <th>Life_exp</th>\n",
              "    </tr>\n",
              "  </thead>\n",
              "  <tbody>\n",
              "    <tr>\n",
              "      <th>108</th>\n",
              "      <td>Afghanistan</td>\n",
              "      <td>AFG</td>\n",
              "      <td>Population, total</td>\n",
              "      <td>SP.POP.TOTL</td>\n",
              "      <td>1960</td>\n",
              "      <td>8994793.0</td>\n",
              "      <td>Afghanistan</td>\n",
              "      <td>Life expectancy at birth, total (years)</td>\n",
              "      <td>SP.DYN.LE00.IN</td>\n",
              "      <td>1960</td>\n",
              "      <td>31.580049</td>\n",
              "    </tr>\n",
              "    <tr>\n",
              "      <th>109</th>\n",
              "      <td>Afghanistan</td>\n",
              "      <td>AFG</td>\n",
              "      <td>Population, total</td>\n",
              "      <td>SP.POP.TOTL</td>\n",
              "      <td>1960</td>\n",
              "      <td>8994793.0</td>\n",
              "      <td>Afghanistan</td>\n",
              "      <td>Life expectancy at birth, total (years)</td>\n",
              "      <td>SP.DYN.LE00.IN</td>\n",
              "      <td>1961</td>\n",
              "      <td>32.095976</td>\n",
              "    </tr>\n",
              "    <tr>\n",
              "      <th>110</th>\n",
              "      <td>Afghanistan</td>\n",
              "      <td>AFG</td>\n",
              "      <td>Population, total</td>\n",
              "      <td>SP.POP.TOTL</td>\n",
              "      <td>1960</td>\n",
              "      <td>8994793.0</td>\n",
              "      <td>Afghanistan</td>\n",
              "      <td>Life expectancy at birth, total (years)</td>\n",
              "      <td>SP.DYN.LE00.IN</td>\n",
              "      <td>1962</td>\n",
              "      <td>32.611878</td>\n",
              "    </tr>\n",
              "  </tbody>\n",
              "</table>\n",
              "</div>"
            ],
            "text/plain": [
              "    Country_Name_x Country_Code  ... Year_y   Life_exp\n",
              "108    Afghanistan          AFG  ...   1960  31.580049\n",
              "109    Afghanistan          AFG  ...   1961  32.095976\n",
              "110    Afghanistan          AFG  ...   1962  32.611878\n",
              "\n",
              "[3 rows x 11 columns]"
            ]
          },
          "metadata": {
            "tags": []
          },
          "execution_count": 55
        }
      ]
    },
    {
      "cell_type": "code",
      "metadata": {
        "id": "WmXhKTK5Xrr2",
        "colab": {
          "base_uri": "https://localhost:8080/",
          "height": 407
        },
        "outputId": "1b02fbc8-72b9-4dc8-868b-ad9662e61633"
      },
      "source": [
        "data.loc[(data['Population'] > np.mean(data['Population']))\n",
        "&\n",
        "(data['Year_x'] == '1960')]"
      ],
      "execution_count": 56,
      "outputs": [
        {
          "output_type": "execute_result",
          "data": {
            "text/html": [
              "<div>\n",
              "<style scoped>\n",
              "    .dataframe tbody tr th:only-of-type {\n",
              "        vertical-align: middle;\n",
              "    }\n",
              "\n",
              "    .dataframe tbody tr th {\n",
              "        vertical-align: top;\n",
              "    }\n",
              "\n",
              "    .dataframe thead th {\n",
              "        text-align: right;\n",
              "    }\n",
              "</style>\n",
              "<table border=\"1\" class=\"dataframe\">\n",
              "  <thead>\n",
              "    <tr style=\"text-align: right;\">\n",
              "      <th></th>\n",
              "      <th>Country_Name_x</th>\n",
              "      <th>Country_Code</th>\n",
              "      <th>Indicator_Name_x</th>\n",
              "      <th>Indicator Code_x</th>\n",
              "      <th>Year_x</th>\n",
              "      <th>Population</th>\n",
              "      <th>Country Name_y</th>\n",
              "      <th>Indicator Name_y</th>\n",
              "      <th>Indicator Code_y</th>\n",
              "      <th>Year_y</th>\n",
              "      <th>Life_exp</th>\n",
              "    </tr>\n",
              "  </thead>\n",
              "  <tbody>\n",
              "    <tr>\n",
              "      <th>918</th>\n",
              "      <td>Bangladesh</td>\n",
              "      <td>BGD</td>\n",
              "      <td>Population, total</td>\n",
              "      <td>SP.POP.TOTL</td>\n",
              "      <td>1960</td>\n",
              "      <td>48200702.0</td>\n",
              "      <td>Bangladesh</td>\n",
              "      <td>Life expectancy at birth, total (years)</td>\n",
              "      <td>SP.DYN.LE00.IN</td>\n",
              "      <td>1960</td>\n",
              "      <td>47.024561</td>\n",
              "    </tr>\n",
              "    <tr>\n",
              "      <th>919</th>\n",
              "      <td>Bangladesh</td>\n",
              "      <td>BGD</td>\n",
              "      <td>Population, total</td>\n",
              "      <td>SP.POP.TOTL</td>\n",
              "      <td>1960</td>\n",
              "      <td>48200702.0</td>\n",
              "      <td>Bangladesh</td>\n",
              "      <td>Life expectancy at birth, total (years)</td>\n",
              "      <td>SP.DYN.LE00.IN</td>\n",
              "      <td>1961</td>\n",
              "      <td>47.608902</td>\n",
              "    </tr>\n",
              "    <tr>\n",
              "      <th>920</th>\n",
              "      <td>Bangladesh</td>\n",
              "      <td>BGD</td>\n",
              "      <td>Population, total</td>\n",
              "      <td>SP.POP.TOTL</td>\n",
              "      <td>1960</td>\n",
              "      <td>48200702.0</td>\n",
              "      <td>Bangladesh</td>\n",
              "      <td>Life expectancy at birth, total (years)</td>\n",
              "      <td>SP.DYN.LE00.IN</td>\n",
              "      <td>1962</td>\n",
              "      <td>48.201561</td>\n",
              "    </tr>\n",
              "    <tr>\n",
              "      <th>921</th>\n",
              "      <td>Bangladesh</td>\n",
              "      <td>BGD</td>\n",
              "      <td>Population, total</td>\n",
              "      <td>SP.POP.TOTL</td>\n",
              "      <td>1960</td>\n",
              "      <td>48200702.0</td>\n",
              "      <td>Bangladesh</td>\n",
              "      <td>Life expectancy at birth, total (years)</td>\n",
              "      <td>SP.DYN.LE00.IN</td>\n",
              "      <td>1963</td>\n",
              "      <td>48.776317</td>\n",
              "    </tr>\n",
              "    <tr>\n",
              "      <th>922</th>\n",
              "      <td>Bangladesh</td>\n",
              "      <td>BGD</td>\n",
              "      <td>Population, total</td>\n",
              "      <td>SP.POP.TOTL</td>\n",
              "      <td>1960</td>\n",
              "      <td>48200702.0</td>\n",
              "      <td>Bangladesh</td>\n",
              "      <td>Life expectancy at birth, total (years)</td>\n",
              "      <td>SP.DYN.LE00.IN</td>\n",
              "      <td>1964</td>\n",
              "      <td>49.293049</td>\n",
              "    </tr>\n",
              "    <tr>\n",
              "      <th>...</th>\n",
              "      <td>...</td>\n",
              "      <td>...</td>\n",
              "      <td>...</td>\n",
              "      <td>...</td>\n",
              "      <td>...</td>\n",
              "      <td>...</td>\n",
              "      <td>...</td>\n",
              "      <td>...</td>\n",
              "      <td>...</td>\n",
              "      <td>...</td>\n",
              "      <td>...</td>\n",
              "    </tr>\n",
              "    <tr>\n",
              "      <th>11173</th>\n",
              "      <td>Vietnam</td>\n",
              "      <td>VNM</td>\n",
              "      <td>Population, total</td>\n",
              "      <td>SP.POP.TOTL</td>\n",
              "      <td>1960</td>\n",
              "      <td>34743000.0</td>\n",
              "      <td>Vietnam</td>\n",
              "      <td>Life expectancy at birth, total (years)</td>\n",
              "      <td>SP.DYN.LE00.IN</td>\n",
              "      <td>2009</td>\n",
              "      <td>75.170756</td>\n",
              "    </tr>\n",
              "    <tr>\n",
              "      <th>11174</th>\n",
              "      <td>Vietnam</td>\n",
              "      <td>VNM</td>\n",
              "      <td>Population, total</td>\n",
              "      <td>SP.POP.TOTL</td>\n",
              "      <td>1960</td>\n",
              "      <td>34743000.0</td>\n",
              "      <td>Vietnam</td>\n",
              "      <td>Life expectancy at birth, total (years)</td>\n",
              "      <td>SP.DYN.LE00.IN</td>\n",
              "      <td>2010</td>\n",
              "      <td>75.311732</td>\n",
              "    </tr>\n",
              "    <tr>\n",
              "      <th>11175</th>\n",
              "      <td>Vietnam</td>\n",
              "      <td>VNM</td>\n",
              "      <td>Population, total</td>\n",
              "      <td>SP.POP.TOTL</td>\n",
              "      <td>1960</td>\n",
              "      <td>34743000.0</td>\n",
              "      <td>Vietnam</td>\n",
              "      <td>Life expectancy at birth, total (years)</td>\n",
              "      <td>SP.DYN.LE00.IN</td>\n",
              "      <td>2011</td>\n",
              "      <td>75.457902</td>\n",
              "    </tr>\n",
              "    <tr>\n",
              "      <th>11176</th>\n",
              "      <td>Vietnam</td>\n",
              "      <td>VNM</td>\n",
              "      <td>Population, total</td>\n",
              "      <td>SP.POP.TOTL</td>\n",
              "      <td>1960</td>\n",
              "      <td>34743000.0</td>\n",
              "      <td>Vietnam</td>\n",
              "      <td>Life expectancy at birth, total (years)</td>\n",
              "      <td>SP.DYN.LE00.IN</td>\n",
              "      <td>2012</td>\n",
              "      <td>75.606683</td>\n",
              "    </tr>\n",
              "    <tr>\n",
              "      <th>11177</th>\n",
              "      <td>Vietnam</td>\n",
              "      <td>VNM</td>\n",
              "      <td>Population, total</td>\n",
              "      <td>SP.POP.TOTL</td>\n",
              "      <td>1960</td>\n",
              "      <td>34743000.0</td>\n",
              "      <td>Vietnam</td>\n",
              "      <td>Life expectancy at birth, total (years)</td>\n",
              "      <td>SP.DYN.LE00.IN</td>\n",
              "      <td>2013</td>\n",
              "      <td>75.756488</td>\n",
              "    </tr>\n",
              "  </tbody>\n",
              "</table>\n",
              "<p>1296 rows × 11 columns</p>\n",
              "</div>"
            ],
            "text/plain": [
              "      Country_Name_x Country_Code  ... Year_y   Life_exp\n",
              "918       Bangladesh          BGD  ...   1960  47.024561\n",
              "919       Bangladesh          BGD  ...   1961  47.608902\n",
              "920       Bangladesh          BGD  ...   1962  48.201561\n",
              "921       Bangladesh          BGD  ...   1963  48.776317\n",
              "922       Bangladesh          BGD  ...   1964  49.293049\n",
              "...              ...          ...  ...    ...        ...\n",
              "11173        Vietnam          VNM  ...   2009  75.170756\n",
              "11174        Vietnam          VNM  ...   2010  75.311732\n",
              "11175        Vietnam          VNM  ...   2011  75.457902\n",
              "11176        Vietnam          VNM  ...   2012  75.606683\n",
              "11177        Vietnam          VNM  ...   2013  75.756488\n",
              "\n",
              "[1296 rows x 11 columns]"
            ]
          },
          "metadata": {
            "tags": []
          },
          "execution_count": 56
        }
      ]
    },
    {
      "cell_type": "code",
      "metadata": {
        "id": "xuTRwnMdnrJj"
      },
      "source": [
        "data[data['test'] == 1]"
      ],
      "execution_count": null,
      "outputs": []
    },
    {
      "cell_type": "code",
      "metadata": {
        "id": "bsHoZTzFnrPu"
      },
      "source": [
        "data.drop(columns = 'test', inplace = True)"
      ],
      "execution_count": 59,
      "outputs": []
    },
    {
      "cell_type": "code",
      "metadata": {
        "id": "hcBfBAG4nrVg"
      },
      "source": [
        "data.head()"
      ],
      "execution_count": null,
      "outputs": []
    },
    {
      "cell_type": "code",
      "metadata": {
        "id": "jACjcdFxnrbO"
      },
      "source": [
        "data.info()"
      ],
      "execution_count": null,
      "outputs": []
    },
    {
      "cell_type": "code",
      "metadata": {
        "id": "AecPm5Q-nrg1"
      },
      "source": [
        "data.loc[data.Country_Code.isin(['ABW','AFG'])]"
      ],
      "execution_count": null,
      "outputs": []
    },
    {
      "cell_type": "code",
      "metadata": {
        "id": "t7qfE5bHnrk5"
      },
      "source": [
        "data.loc[data.Year_x.isin(['1960','2013']) & data.Country_Code.isin(['ABW','AFG'])]"
      ],
      "execution_count": null,
      "outputs": []
    },
    {
      "cell_type": "code",
      "metadata": {
        "id": "nXtmqM9jnrpS"
      },
      "source": [
        "#data.loc[data.Year_x == '1960'] = '500'"
      ],
      "execution_count": 64,
      "outputs": []
    },
    {
      "cell_type": "code",
      "metadata": {
        "id": "Lyaerszfnrta"
      },
      "source": [
        "data.loc[(data.Country_Code == 'ABW') & (data.Year_y == '1960')]"
      ],
      "execution_count": null,
      "outputs": []
    },
    {
      "cell_type": "code",
      "metadata": {
        "colab": {
          "base_uri": "https://localhost:8080/",
          "height": 407
        },
        "id": "LVmVUfwRnrx-",
        "outputId": "2d02264e-c4ea-4773-d0da-3208d4570243"
      },
      "source": [
        "data[data['Indicator_Name_x'].str.contains('total')]"
      ],
      "execution_count": 95,
      "outputs": [
        {
          "output_type": "execute_result",
          "data": {
            "text/html": [
              "<div>\n",
              "<style scoped>\n",
              "    .dataframe tbody tr th:only-of-type {\n",
              "        vertical-align: middle;\n",
              "    }\n",
              "\n",
              "    .dataframe tbody tr th {\n",
              "        vertical-align: top;\n",
              "    }\n",
              "\n",
              "    .dataframe thead th {\n",
              "        text-align: right;\n",
              "    }\n",
              "</style>\n",
              "<table border=\"1\" class=\"dataframe\">\n",
              "  <thead>\n",
              "    <tr style=\"text-align: right;\">\n",
              "      <th></th>\n",
              "      <th>Country_Name_x</th>\n",
              "      <th>Country_Code</th>\n",
              "      <th>Indicator_Name_x</th>\n",
              "      <th>Indicator Code_x</th>\n",
              "      <th>Year_x</th>\n",
              "      <th>Population</th>\n",
              "      <th>Country Name_y</th>\n",
              "      <th>Indicator Name_y</th>\n",
              "      <th>Indicator Code_y</th>\n",
              "      <th>Year_y</th>\n",
              "      <th>Life_exp</th>\n",
              "    </tr>\n",
              "  </thead>\n",
              "  <tbody>\n",
              "    <tr>\n",
              "      <th>0</th>\n",
              "      <td>Aruba</td>\n",
              "      <td>ABW</td>\n",
              "      <td>Population, total</td>\n",
              "      <td>SP.POP.TOTL</td>\n",
              "      <td>1960</td>\n",
              "      <td>54208.0</td>\n",
              "      <td>Aruba</td>\n",
              "      <td>Life expectancy at birth, total (years)</td>\n",
              "      <td>SP.DYN.LE00.IN</td>\n",
              "      <td>1960</td>\n",
              "      <td>65.569366</td>\n",
              "    </tr>\n",
              "    <tr>\n",
              "      <th>1</th>\n",
              "      <td>Aruba</td>\n",
              "      <td>ABW</td>\n",
              "      <td>Population, total</td>\n",
              "      <td>SP.POP.TOTL</td>\n",
              "      <td>1960</td>\n",
              "      <td>54208.0</td>\n",
              "      <td>Aruba</td>\n",
              "      <td>Life expectancy at birth, total (years)</td>\n",
              "      <td>SP.DYN.LE00.IN</td>\n",
              "      <td>1961</td>\n",
              "      <td>65.988024</td>\n",
              "    </tr>\n",
              "    <tr>\n",
              "      <th>2</th>\n",
              "      <td>Aruba</td>\n",
              "      <td>ABW</td>\n",
              "      <td>Population, total</td>\n",
              "      <td>SP.POP.TOTL</td>\n",
              "      <td>1960</td>\n",
              "      <td>54208.0</td>\n",
              "      <td>Aruba</td>\n",
              "      <td>Life expectancy at birth, total (years)</td>\n",
              "      <td>SP.DYN.LE00.IN</td>\n",
              "      <td>1962</td>\n",
              "      <td>66.365537</td>\n",
              "    </tr>\n",
              "    <tr>\n",
              "      <th>3</th>\n",
              "      <td>Aruba</td>\n",
              "      <td>ABW</td>\n",
              "      <td>Population, total</td>\n",
              "      <td>SP.POP.TOTL</td>\n",
              "      <td>1960</td>\n",
              "      <td>54208.0</td>\n",
              "      <td>Aruba</td>\n",
              "      <td>Life expectancy at birth, total (years)</td>\n",
              "      <td>SP.DYN.LE00.IN</td>\n",
              "      <td>1963</td>\n",
              "      <td>66.713976</td>\n",
              "    </tr>\n",
              "    <tr>\n",
              "      <th>4</th>\n",
              "      <td>Aruba</td>\n",
              "      <td>ABW</td>\n",
              "      <td>Population, total</td>\n",
              "      <td>SP.POP.TOTL</td>\n",
              "      <td>1960</td>\n",
              "      <td>54208.0</td>\n",
              "      <td>Aruba</td>\n",
              "      <td>Life expectancy at birth, total (years)</td>\n",
              "      <td>SP.DYN.LE00.IN</td>\n",
              "      <td>1964</td>\n",
              "      <td>67.044293</td>\n",
              "    </tr>\n",
              "    <tr>\n",
              "      <th>...</th>\n",
              "      <td>...</td>\n",
              "      <td>...</td>\n",
              "      <td>...</td>\n",
              "      <td>...</td>\n",
              "      <td>...</td>\n",
              "      <td>...</td>\n",
              "      <td>...</td>\n",
              "      <td>...</td>\n",
              "      <td>...</td>\n",
              "      <td>...</td>\n",
              "      <td>...</td>\n",
              "    </tr>\n",
              "    <tr>\n",
              "      <th>626935</th>\n",
              "      <td>Zimbabwe</td>\n",
              "      <td>ZWE</td>\n",
              "      <td>Population, total</td>\n",
              "      <td>SP.POP.TOTL</td>\n",
              "      <td>2013</td>\n",
              "      <td>14898092.0</td>\n",
              "      <td>Zimbabwe</td>\n",
              "      <td>Life expectancy at birth, total (years)</td>\n",
              "      <td>SP.DYN.LE00.IN</td>\n",
              "      <td>2009</td>\n",
              "      <td>51.147927</td>\n",
              "    </tr>\n",
              "    <tr>\n",
              "      <th>626936</th>\n",
              "      <td>Zimbabwe</td>\n",
              "      <td>ZWE</td>\n",
              "      <td>Population, total</td>\n",
              "      <td>SP.POP.TOTL</td>\n",
              "      <td>2013</td>\n",
              "      <td>14898092.0</td>\n",
              "      <td>Zimbabwe</td>\n",
              "      <td>Life expectancy at birth, total (years)</td>\n",
              "      <td>SP.DYN.LE00.IN</td>\n",
              "      <td>2010</td>\n",
              "      <td>53.593122</td>\n",
              "    </tr>\n",
              "    <tr>\n",
              "      <th>626937</th>\n",
              "      <td>Zimbabwe</td>\n",
              "      <td>ZWE</td>\n",
              "      <td>Population, total</td>\n",
              "      <td>SP.POP.TOTL</td>\n",
              "      <td>2013</td>\n",
              "      <td>14898092.0</td>\n",
              "      <td>Zimbabwe</td>\n",
              "      <td>Life expectancy at birth, total (years)</td>\n",
              "      <td>SP.DYN.LE00.IN</td>\n",
              "      <td>2011</td>\n",
              "      <td>55.946220</td>\n",
              "    </tr>\n",
              "    <tr>\n",
              "      <th>626938</th>\n",
              "      <td>Zimbabwe</td>\n",
              "      <td>ZWE</td>\n",
              "      <td>Population, total</td>\n",
              "      <td>SP.POP.TOTL</td>\n",
              "      <td>2013</td>\n",
              "      <td>14898092.0</td>\n",
              "      <td>Zimbabwe</td>\n",
              "      <td>Life expectancy at birth, total (years)</td>\n",
              "      <td>SP.DYN.LE00.IN</td>\n",
              "      <td>2012</td>\n",
              "      <td>58.045976</td>\n",
              "    </tr>\n",
              "    <tr>\n",
              "      <th>626939</th>\n",
              "      <td>Zimbabwe</td>\n",
              "      <td>ZWE</td>\n",
              "      <td>Population, total</td>\n",
              "      <td>SP.POP.TOTL</td>\n",
              "      <td>2013</td>\n",
              "      <td>14898092.0</td>\n",
              "      <td>Zimbabwe</td>\n",
              "      <td>Life expectancy at birth, total (years)</td>\n",
              "      <td>SP.DYN.LE00.IN</td>\n",
              "      <td>2013</td>\n",
              "      <td>59.773488</td>\n",
              "    </tr>\n",
              "  </tbody>\n",
              "</table>\n",
              "<p>626940 rows × 11 columns</p>\n",
              "</div>"
            ],
            "text/plain": [
              "       Country_Name_x Country_Code  ... Year_y   Life_exp\n",
              "0               Aruba          ABW  ...   1960  65.569366\n",
              "1               Aruba          ABW  ...   1961  65.988024\n",
              "2               Aruba          ABW  ...   1962  66.365537\n",
              "3               Aruba          ABW  ...   1963  66.713976\n",
              "4               Aruba          ABW  ...   1964  67.044293\n",
              "...               ...          ...  ...    ...        ...\n",
              "626935       Zimbabwe          ZWE  ...   2009  51.147927\n",
              "626936       Zimbabwe          ZWE  ...   2010  53.593122\n",
              "626937       Zimbabwe          ZWE  ...   2011  55.946220\n",
              "626938       Zimbabwe          ZWE  ...   2012  58.045976\n",
              "626939       Zimbabwe          ZWE  ...   2013  59.773488\n",
              "\n",
              "[626940 rows x 11 columns]"
            ]
          },
          "metadata": {
            "tags": []
          },
          "execution_count": 95
        }
      ]
    },
    {
      "cell_type": "code",
      "metadata": {
        "colab": {
          "base_uri": "https://localhost:8080/"
        },
        "id": "Nh4-1MAZnr2M",
        "outputId": "b4f8e5d0-8148-4df7-b0f8-d0f8d4ccdcb9"
      },
      "source": [
        "data['Indicator Code_y'].unique()"
      ],
      "execution_count": 78,
      "outputs": [
        {
          "output_type": "execute_result",
          "data": {
            "text/plain": [
              "array(['SP.DYN.LE00.IN'], dtype=object)"
            ]
          },
          "metadata": {
            "tags": []
          },
          "execution_count": 78
        }
      ]
    },
    {
      "cell_type": "code",
      "metadata": {
        "id": "5K9QZErDnr6l"
      },
      "source": [
        "data['Indicator Code_y'].str.split('.').str[0]"
      ],
      "execution_count": null,
      "outputs": []
    },
    {
      "cell_type": "code",
      "metadata": {
        "id": "5pUiplBnnrBE"
      },
      "source": [
        "data['test'] = [1 if (x.Year_x == '1960' and x.Country_Name_x == 'Vietnam') else 0 for x in data.itertuples()]"
      ],
      "execution_count": 102,
      "outputs": []
    },
    {
      "cell_type": "code",
      "metadata": {
        "id": "Fk9S4yBSnr-1"
      },
      "source": [
        "#wokrs\n",
        "[1 if (x.Country_Code == 'ABW' and x.Indicator_Name_x[0:3] == 'Abc') else 0 for x in data.itertuples()]"
      ],
      "execution_count": null,
      "outputs": []
    },
    {
      "cell_type": "code",
      "metadata": {
        "colab": {
          "base_uri": "https://localhost:8080/"
        },
        "id": "_hgeKc2-eUVV",
        "outputId": "b11d3c16-5c7b-4dd3-995a-f0cede16bcb3"
      },
      "source": [
        "data.columns"
      ],
      "execution_count": 103,
      "outputs": [
        {
          "output_type": "execute_result",
          "data": {
            "text/plain": [
              "Index(['Country_Name_x', 'Country_Code', 'Indicator_Name_x',\n",
              "       'Indicator Code_x', 'Year_x', 'Population', 'Country Name_y',\n",
              "       'Indicator Name_y', 'Indicator Code_y', 'Year_y', 'Life_exp', 'test'],\n",
              "      dtype='object')"
            ]
          },
          "metadata": {
            "tags": []
          },
          "execution_count": 103
        }
      ]
    },
    {
      "cell_type": "code",
      "metadata": {
        "colab": {
          "base_uri": "https://localhost:8080/",
          "height": 138
        },
        "id": "poHwhp6ueUde",
        "outputId": "d885abfd-c8a6-4cdd-8d67-928263ac6379"
      },
      "source": [
        "data.head(3)"
      ],
      "execution_count": 91,
      "outputs": [
        {
          "output_type": "execute_result",
          "data": {
            "text/html": [
              "<div>\n",
              "<style scoped>\n",
              "    .dataframe tbody tr th:only-of-type {\n",
              "        vertical-align: middle;\n",
              "    }\n",
              "\n",
              "    .dataframe tbody tr th {\n",
              "        vertical-align: top;\n",
              "    }\n",
              "\n",
              "    .dataframe thead th {\n",
              "        text-align: right;\n",
              "    }\n",
              "</style>\n",
              "<table border=\"1\" class=\"dataframe\">\n",
              "  <thead>\n",
              "    <tr style=\"text-align: right;\">\n",
              "      <th></th>\n",
              "      <th>Country_Name_x</th>\n",
              "      <th>Country_Code</th>\n",
              "      <th>Indicator_Name_x</th>\n",
              "      <th>Indicator Code_x</th>\n",
              "      <th>Year_x</th>\n",
              "      <th>Population</th>\n",
              "      <th>Country Name_y</th>\n",
              "      <th>Indicator Name_y</th>\n",
              "      <th>Indicator Code_y</th>\n",
              "      <th>Year_y</th>\n",
              "      <th>Life_exp</th>\n",
              "    </tr>\n",
              "  </thead>\n",
              "  <tbody>\n",
              "    <tr>\n",
              "      <th>0</th>\n",
              "      <td>Aruba</td>\n",
              "      <td>ABW</td>\n",
              "      <td>Population, total</td>\n",
              "      <td>SP.POP.TOTL</td>\n",
              "      <td>1960</td>\n",
              "      <td>54208.0</td>\n",
              "      <td>Aruba</td>\n",
              "      <td>Life expectancy at birth, total (years)</td>\n",
              "      <td>SP.DYN.LE00.IN</td>\n",
              "      <td>1960</td>\n",
              "      <td>65.569366</td>\n",
              "    </tr>\n",
              "    <tr>\n",
              "      <th>1</th>\n",
              "      <td>Aruba</td>\n",
              "      <td>ABW</td>\n",
              "      <td>Population, total</td>\n",
              "      <td>SP.POP.TOTL</td>\n",
              "      <td>1960</td>\n",
              "      <td>54208.0</td>\n",
              "      <td>Aruba</td>\n",
              "      <td>Life expectancy at birth, total (years)</td>\n",
              "      <td>SP.DYN.LE00.IN</td>\n",
              "      <td>1961</td>\n",
              "      <td>65.988024</td>\n",
              "    </tr>\n",
              "    <tr>\n",
              "      <th>2</th>\n",
              "      <td>Aruba</td>\n",
              "      <td>ABW</td>\n",
              "      <td>Population, total</td>\n",
              "      <td>SP.POP.TOTL</td>\n",
              "      <td>1960</td>\n",
              "      <td>54208.0</td>\n",
              "      <td>Aruba</td>\n",
              "      <td>Life expectancy at birth, total (years)</td>\n",
              "      <td>SP.DYN.LE00.IN</td>\n",
              "      <td>1962</td>\n",
              "      <td>66.365537</td>\n",
              "    </tr>\n",
              "  </tbody>\n",
              "</table>\n",
              "</div>"
            ],
            "text/plain": [
              "  Country_Name_x Country_Code  ... Year_y   Life_exp\n",
              "0          Aruba          ABW  ...   1960  65.569366\n",
              "1          Aruba          ABW  ...   1961  65.988024\n",
              "2          Aruba          ABW  ...   1962  66.365537\n",
              "\n",
              "[3 rows x 11 columns]"
            ]
          },
          "metadata": {
            "tags": []
          },
          "execution_count": 91
        }
      ]
    },
    {
      "cell_type": "code",
      "metadata": {
        "colab": {
          "base_uri": "https://localhost:8080/",
          "height": 322
        },
        "id": "6kGW74HmeUl1",
        "outputId": "9ef79dc0-3f5d-4493-fd7c-332af32609fe"
      },
      "source": [
        "data.groupby(['Country_Name_x','Country_Code'])['Year_x'].mean()"
      ],
      "execution_count": 119,
      "outputs": [
        {
          "output_type": "error",
          "ename": "DataError",
          "evalue": "ignored",
          "traceback": [
            "\u001b[0;31m---------------------------------------------------------------------------\u001b[0m",
            "\u001b[0;31mDataError\u001b[0m                                 Traceback (most recent call last)",
            "\u001b[0;32m<ipython-input-119-7f155b15acfb>\u001b[0m in \u001b[0;36m<module>\u001b[0;34m()\u001b[0m\n\u001b[0;32m----> 1\u001b[0;31m \u001b[0mdata\u001b[0m\u001b[0;34m.\u001b[0m\u001b[0mgroupby\u001b[0m\u001b[0;34m(\u001b[0m\u001b[0;34m[\u001b[0m\u001b[0;34m'Country_Name_x'\u001b[0m\u001b[0;34m,\u001b[0m\u001b[0;34m'Country_Code'\u001b[0m\u001b[0;34m]\u001b[0m\u001b[0;34m)\u001b[0m\u001b[0;34m[\u001b[0m\u001b[0;34m'Year_x'\u001b[0m\u001b[0;34m]\u001b[0m\u001b[0;34m.\u001b[0m\u001b[0mmean\u001b[0m\u001b[0;34m(\u001b[0m\u001b[0;34m)\u001b[0m\u001b[0;34m\u001b[0m\u001b[0;34m\u001b[0m\u001b[0m\n\u001b[0m",
            "\u001b[0;32m/usr/local/lib/python3.7/dist-packages/pandas/core/groupby/groupby.py\u001b[0m in \u001b[0;36mmean\u001b[0;34m(self, numeric_only)\u001b[0m\n\u001b[1;32m   1396\u001b[0m             \u001b[0;34m\"mean\"\u001b[0m\u001b[0;34m,\u001b[0m\u001b[0;34m\u001b[0m\u001b[0;34m\u001b[0m\u001b[0m\n\u001b[1;32m   1397\u001b[0m             \u001b[0malt\u001b[0m\u001b[0;34m=\u001b[0m\u001b[0;32mlambda\u001b[0m \u001b[0mx\u001b[0m\u001b[0;34m,\u001b[0m \u001b[0maxis\u001b[0m\u001b[0;34m:\u001b[0m \u001b[0mSeries\u001b[0m\u001b[0;34m(\u001b[0m\u001b[0mx\u001b[0m\u001b[0;34m)\u001b[0m\u001b[0;34m.\u001b[0m\u001b[0mmean\u001b[0m\u001b[0;34m(\u001b[0m\u001b[0mnumeric_only\u001b[0m\u001b[0;34m=\u001b[0m\u001b[0mnumeric_only\u001b[0m\u001b[0;34m)\u001b[0m\u001b[0;34m,\u001b[0m\u001b[0;34m\u001b[0m\u001b[0;34m\u001b[0m\u001b[0m\n\u001b[0;32m-> 1398\u001b[0;31m             \u001b[0mnumeric_only\u001b[0m\u001b[0;34m=\u001b[0m\u001b[0mnumeric_only\u001b[0m\u001b[0;34m,\u001b[0m\u001b[0;34m\u001b[0m\u001b[0;34m\u001b[0m\u001b[0m\n\u001b[0m\u001b[1;32m   1399\u001b[0m         )\n\u001b[1;32m   1400\u001b[0m \u001b[0;34m\u001b[0m\u001b[0m\n",
            "\u001b[0;32m/usr/local/lib/python3.7/dist-packages/pandas/core/groupby/groupby.py\u001b[0m in \u001b[0;36m_cython_agg_general\u001b[0;34m(self, how, alt, numeric_only, min_count)\u001b[0m\n\u001b[1;32m   1051\u001b[0m \u001b[0;34m\u001b[0m\u001b[0m\n\u001b[1;32m   1052\u001b[0m         \u001b[0;32mif\u001b[0m \u001b[0mlen\u001b[0m\u001b[0;34m(\u001b[0m\u001b[0moutput\u001b[0m\u001b[0;34m)\u001b[0m \u001b[0;34m==\u001b[0m \u001b[0;36m0\u001b[0m\u001b[0;34m:\u001b[0m\u001b[0;34m\u001b[0m\u001b[0;34m\u001b[0m\u001b[0m\n\u001b[0;32m-> 1053\u001b[0;31m             \u001b[0;32mraise\u001b[0m \u001b[0mDataError\u001b[0m\u001b[0;34m(\u001b[0m\u001b[0;34m\"No numeric types to aggregate\"\u001b[0m\u001b[0;34m)\u001b[0m\u001b[0;34m\u001b[0m\u001b[0;34m\u001b[0m\u001b[0m\n\u001b[0m\u001b[1;32m   1054\u001b[0m \u001b[0;34m\u001b[0m\u001b[0m\n\u001b[1;32m   1055\u001b[0m         \u001b[0;32mreturn\u001b[0m \u001b[0mself\u001b[0m\u001b[0;34m.\u001b[0m\u001b[0m_wrap_aggregated_output\u001b[0m\u001b[0;34m(\u001b[0m\u001b[0moutput\u001b[0m\u001b[0;34m,\u001b[0m \u001b[0mindex\u001b[0m\u001b[0;34m=\u001b[0m\u001b[0mself\u001b[0m\u001b[0;34m.\u001b[0m\u001b[0mgrouper\u001b[0m\u001b[0;34m.\u001b[0m\u001b[0mresult_index\u001b[0m\u001b[0;34m)\u001b[0m\u001b[0;34m\u001b[0m\u001b[0;34m\u001b[0m\u001b[0m\n",
            "\u001b[0;31mDataError\u001b[0m: No numeric types to aggregate"
          ]
        }
      ]
    },
    {
      "cell_type": "code",
      "metadata": {
        "colab": {
          "base_uri": "https://localhost:8080/",
          "height": 171
        },
        "id": "Mcvmx0gmeUuN",
        "outputId": "db03f28f-7652-4dc1-d421-491b2e11a1f1"
      },
      "source": [
        "pd.to_numeric(data['Year_x'], inplace = True)"
      ],
      "execution_count": 121,
      "outputs": [
        {
          "output_type": "error",
          "ename": "TypeError",
          "evalue": "ignored",
          "traceback": [
            "\u001b[0;31m---------------------------------------------------------------------------\u001b[0m",
            "\u001b[0;31mTypeError\u001b[0m                                 Traceback (most recent call last)",
            "\u001b[0;32m<ipython-input-121-effd42924e77>\u001b[0m in \u001b[0;36m<module>\u001b[0;34m()\u001b[0m\n\u001b[0;32m----> 1\u001b[0;31m \u001b[0mpd\u001b[0m\u001b[0;34m.\u001b[0m\u001b[0mto_numeric\u001b[0m\u001b[0;34m(\u001b[0m\u001b[0mdata\u001b[0m\u001b[0;34m[\u001b[0m\u001b[0;34m'Year_x'\u001b[0m\u001b[0;34m]\u001b[0m\u001b[0;34m,\u001b[0m \u001b[0minplace\u001b[0m \u001b[0;34m=\u001b[0m \u001b[0;32mTrue\u001b[0m\u001b[0;34m)\u001b[0m\u001b[0;34m\u001b[0m\u001b[0;34m\u001b[0m\u001b[0m\n\u001b[0m",
            "\u001b[0;31mTypeError\u001b[0m: to_numeric() got an unexpected keyword argument 'inplace'"
          ]
        }
      ]
    },
    {
      "cell_type": "code",
      "metadata": {
        "id": "tzgrg_qJeU1e"
      },
      "source": [
        ""
      ],
      "execution_count": null,
      "outputs": []
    },
    {
      "cell_type": "code",
      "metadata": {
        "id": "Ta5WRQx5eU9K"
      },
      "source": [
        ""
      ],
      "execution_count": null,
      "outputs": []
    },
    {
      "cell_type": "code",
      "metadata": {
        "id": "bpkmrXFKeVGz"
      },
      "source": [
        ""
      ],
      "execution_count": null,
      "outputs": []
    },
    {
      "cell_type": "code",
      "metadata": {
        "id": "NOCPHjW1eVQw"
      },
      "source": [
        ""
      ],
      "execution_count": null,
      "outputs": []
    },
    {
      "cell_type": "code",
      "metadata": {
        "id": "GM3SbWKveVZd"
      },
      "source": [
        ""
      ],
      "execution_count": null,
      "outputs": []
    },
    {
      "cell_type": "code",
      "metadata": {
        "id": "yR-mSA-1eVhB"
      },
      "source": [
        ""
      ],
      "execution_count": null,
      "outputs": []
    },
    {
      "cell_type": "code",
      "metadata": {
        "id": "VkbTfzFQeVpE"
      },
      "source": [
        ""
      ],
      "execution_count": null,
      "outputs": []
    },
    {
      "cell_type": "code",
      "metadata": {
        "id": "sSzen70IeVxF"
      },
      "source": [
        ""
      ],
      "execution_count": null,
      "outputs": []
    }
  ]
}